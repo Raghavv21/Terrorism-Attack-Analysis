{
 "cells": [
  {
   "cell_type": "code",
   "execution_count": 6,
   "id": "4620c706",
   "metadata": {},
   "outputs": [],
   "source": [
    "import os\n",
    "import pandas as pd\n",
    "import numpy as np"
   ]
  },
  {
   "cell_type": "code",
   "execution_count": 10,
   "id": "d53275c4",
   "metadata": {},
   "outputs": [
    {
     "data": {
      "text/html": [
       "<div>\n",
       "<style scoped>\n",
       "    .dataframe tbody tr th:only-of-type {\n",
       "        vertical-align: middle;\n",
       "    }\n",
       "\n",
       "    .dataframe tbody tr th {\n",
       "        vertical-align: top;\n",
       "    }\n",
       "\n",
       "    .dataframe thead th {\n",
       "        text-align: right;\n",
       "    }\n",
       "</style>\n",
       "<table border=\"1\" class=\"dataframe\">\n",
       "  <thead>\n",
       "    <tr style=\"text-align: right;\">\n",
       "      <th></th>\n",
       "      <th>Year</th>\n",
       "      <th>Month</th>\n",
       "      <th>Day</th>\n",
       "      <th>Country</th>\n",
       "      <th>State</th>\n",
       "      <th>Region</th>\n",
       "      <th>City</th>\n",
       "      <th>Latitude</th>\n",
       "      <th>Longitude</th>\n",
       "      <th>AttackType</th>\n",
       "      <th>Killed</th>\n",
       "      <th>Wounded</th>\n",
       "      <th>Target</th>\n",
       "      <th>Summary</th>\n",
       "      <th>Group</th>\n",
       "      <th>Target_type</th>\n",
       "      <th>Weapon_type</th>\n",
       "    </tr>\n",
       "  </thead>\n",
       "  <tbody>\n",
       "    <tr>\n",
       "      <th>0</th>\n",
       "      <td>1970</td>\n",
       "      <td>7</td>\n",
       "      <td>2</td>\n",
       "      <td>Dominican Republic</td>\n",
       "      <td>NaN</td>\n",
       "      <td>Central America &amp; Caribbean</td>\n",
       "      <td>Santo Domingo</td>\n",
       "      <td>18.456792</td>\n",
       "      <td>-69.951164</td>\n",
       "      <td>Assassination</td>\n",
       "      <td>1.0</td>\n",
       "      <td>0.0</td>\n",
       "      <td>Julio Guzman</td>\n",
       "      <td>NaN</td>\n",
       "      <td>MANO-D</td>\n",
       "      <td>Private Citizens &amp; Property</td>\n",
       "      <td>Unknown</td>\n",
       "    </tr>\n",
       "    <tr>\n",
       "      <th>1</th>\n",
       "      <td>1970</td>\n",
       "      <td>0</td>\n",
       "      <td>0</td>\n",
       "      <td>Mexico</td>\n",
       "      <td>Federal</td>\n",
       "      <td>North America</td>\n",
       "      <td>Mexico city</td>\n",
       "      <td>19.371887</td>\n",
       "      <td>-99.086624</td>\n",
       "      <td>Hostage Taking (Kidnapping)</td>\n",
       "      <td>0.0</td>\n",
       "      <td>0.0</td>\n",
       "      <td>Nadine Chaval, daughter</td>\n",
       "      <td>NaN</td>\n",
       "      <td>23rd of September Communist League</td>\n",
       "      <td>Government (Diplomatic)</td>\n",
       "      <td>Unknown</td>\n",
       "    </tr>\n",
       "    <tr>\n",
       "      <th>2</th>\n",
       "      <td>1970</td>\n",
       "      <td>1</td>\n",
       "      <td>0</td>\n",
       "      <td>Philippines</td>\n",
       "      <td>Tarlac</td>\n",
       "      <td>Southeast Asia</td>\n",
       "      <td>Unknown</td>\n",
       "      <td>15.478598</td>\n",
       "      <td>120.599741</td>\n",
       "      <td>Assassination</td>\n",
       "      <td>1.0</td>\n",
       "      <td>0.0</td>\n",
       "      <td>Employee</td>\n",
       "      <td>NaN</td>\n",
       "      <td>Unknown</td>\n",
       "      <td>Journalists &amp; Media</td>\n",
       "      <td>Unknown</td>\n",
       "    </tr>\n",
       "    <tr>\n",
       "      <th>3</th>\n",
       "      <td>1970</td>\n",
       "      <td>1</td>\n",
       "      <td>0</td>\n",
       "      <td>Greece</td>\n",
       "      <td>Attica</td>\n",
       "      <td>Western Europe</td>\n",
       "      <td>Athens</td>\n",
       "      <td>37.997490</td>\n",
       "      <td>23.762728</td>\n",
       "      <td>Bombing/Explosion</td>\n",
       "      <td>NaN</td>\n",
       "      <td>NaN</td>\n",
       "      <td>U.S. Embassy</td>\n",
       "      <td>NaN</td>\n",
       "      <td>Unknown</td>\n",
       "      <td>Government (Diplomatic)</td>\n",
       "      <td>Explosives</td>\n",
       "    </tr>\n",
       "    <tr>\n",
       "      <th>4</th>\n",
       "      <td>1970</td>\n",
       "      <td>1</td>\n",
       "      <td>0</td>\n",
       "      <td>Japan</td>\n",
       "      <td>Fukouka</td>\n",
       "      <td>East Asia</td>\n",
       "      <td>Fukouka</td>\n",
       "      <td>33.580412</td>\n",
       "      <td>130.396361</td>\n",
       "      <td>Facility/Infrastructure Attack</td>\n",
       "      <td>NaN</td>\n",
       "      <td>NaN</td>\n",
       "      <td>U.S. Consulate</td>\n",
       "      <td>NaN</td>\n",
       "      <td>Unknown</td>\n",
       "      <td>Government (Diplomatic)</td>\n",
       "      <td>Incendiary</td>\n",
       "    </tr>\n",
       "  </tbody>\n",
       "</table>\n",
       "</div>"
      ],
      "text/plain": [
       "   Year  Month  Day             Country    State                       Region  \\\n",
       "0  1970      7    2  Dominican Republic      NaN  Central America & Caribbean   \n",
       "1  1970      0    0              Mexico  Federal                North America   \n",
       "2  1970      1    0         Philippines   Tarlac               Southeast Asia   \n",
       "3  1970      1    0              Greece   Attica               Western Europe   \n",
       "4  1970      1    0               Japan  Fukouka                    East Asia   \n",
       "\n",
       "            City   Latitude   Longitude                      AttackType  \\\n",
       "0  Santo Domingo  18.456792  -69.951164                   Assassination   \n",
       "1    Mexico city  19.371887  -99.086624     Hostage Taking (Kidnapping)   \n",
       "2        Unknown  15.478598  120.599741                   Assassination   \n",
       "3         Athens  37.997490   23.762728               Bombing/Explosion   \n",
       "4        Fukouka  33.580412  130.396361  Facility/Infrastructure Attack   \n",
       "\n",
       "   Killed  Wounded                   Target Summary  \\\n",
       "0     1.0      0.0             Julio Guzman     NaN   \n",
       "1     0.0      0.0  Nadine Chaval, daughter     NaN   \n",
       "2     1.0      0.0                 Employee     NaN   \n",
       "3     NaN      NaN             U.S. Embassy     NaN   \n",
       "4     NaN      NaN           U.S. Consulate     NaN   \n",
       "\n",
       "                                Group                  Target_type Weapon_type  \n",
       "0                              MANO-D  Private Citizens & Property     Unknown  \n",
       "1  23rd of September Communist League      Government (Diplomatic)     Unknown  \n",
       "2                             Unknown          Journalists & Media     Unknown  \n",
       "3                             Unknown      Government (Diplomatic)  Explosives  \n",
       "4                             Unknown      Government (Diplomatic)  Incendiary  "
      ]
     },
     "execution_count": 10,
     "metadata": {},
     "output_type": "execute_result"
    }
   ],
   "source": [
    "terrorism_data = pd.read_csv(\"E:/terrorismData.csv\")\n",
    "terrorism_data.head()"
   ]
  },
  {
   "cell_type": "code",
   "execution_count": 16,
   "id": "a24b9e0f",
   "metadata": {},
   "outputs": [
    {
     "name": "stdout",
     "output_type": "stream",
     "text": [
      "Problem 1\n",
      "City: Srinagar, Active Group: Muslim Separatists, Attacks: 351\n"
     ]
    }
   ],
   "source": [
    "# Problem 1: Terror Attack City\n",
    "jk_data = terrorism_data[terrorism_data['State'] == 'Jammu and Kashmir']\n",
    "city_counts = jk_data[jk_data['Group'] != 'Unknown'].groupby('City')['Year'].count()\n",
    "most_dangerous_city = city_counts.idxmax()\n",
    "most_active_group = jk_data[(jk_data['City'] == most_dangerous_city) & (jk_data['Group'] != 'Unknown')].groupby('Group')['Year'].count().idxmax()\n",
    "print(\"Problem 1\")\n",
    "print(f\"City: {most_dangerous_city}, Active Group: {most_active_group}, Attacks: {city_counts[most_dangerous_city]}\")"
   ]
  },
  {
   "cell_type": "code",
   "execution_count": 18,
   "id": "4f5ba6eb",
   "metadata": {},
   "outputs": [
    {
     "name": "stdout",
     "output_type": "stream",
     "text": [
      "Problem 2\n",
      "Country: Iraq, Year: 2014, Attacks: 3933\n"
     ]
    }
   ],
   "source": [
    "# Problem 2: Country with Highest Number of Attacks and Most Attacked Year\n",
    "country_counts = terrorism_data.groupby('Country')['Year'].count()\n",
    "most_attacked_country = country_counts.idxmax()\n",
    "country_data = terrorism_data[terrorism_data['Country'] == most_attacked_country]\n",
    "year_counts = country_data.groupby('Year')['Day'].count()\n",
    "most_attack_year = year_counts.idxmax()\n",
    "print(\"Problem 2\")\n",
    "print(f\"Country: {most_attacked_country}, Year: {most_attack_year}, Attacks: {year_counts[most_attack_year]}\")"
   ]
  },
  {
   "cell_type": "code",
   "execution_count": 20,
   "id": "b94f035d",
   "metadata": {},
   "outputs": [
    {
     "name": "stdout",
     "output_type": "stream",
     "text": [
      "Problem 3\n",
      "Deadliest Attack Casualties: 9574\n"
     ]
    }
   ],
   "source": [
    "# Problem 3: Deadliest Attack\n",
    "terrorism_data['Casualties'] = terrorism_data['Killed'] + terrorism_data['Wounded']\n",
    "deadliest_attack = terrorism_data['Casualties'].max()\n",
    "print(\"Problem 3\")\n",
    "print(f\"Deadliest Attack Casualties: {int(deadliest_attack)}\")"
   ]
  },
  {
   "cell_type": "code",
   "execution_count": 21,
   "id": "8f8b9bec",
   "metadata": {},
   "outputs": [
    {
     "name": "stdout",
     "output_type": "stream",
     "text": [
      "Problem 4\n",
      "Attacks in India (2014-current): 3735, Most Active Group: Maoists\n"
     ]
    }
   ],
   "source": [
    "# Problem 4: Government's Span Analysis\n",
    "start_year = 2014\n",
    "indian_data = terrorism_data[(terrorism_data['Country'] == 'India') & (terrorism_data['Year'] >= start_year)]\n",
    "attack_count = indian_data['Year'].count()\n",
    "most_active_group_india = indian_data[indian_data['Group'] != 'Unknown'].groupby('Group')['Year'].count().idxmax()\n",
    "print(\"Problem 4\")\n",
    "print(f\"Attacks in India (2014-current): {attack_count}, Most Active Group: {most_active_group_india}\")"
   ]
  },
  {
   "cell_type": "code",
   "execution_count": 22,
   "id": "7b72f777",
   "metadata": {
    "scrolled": true
   },
   "outputs": [
    {
     "name": "stdout",
     "output_type": "stream",
     "text": [
      "Problem 5\n",
      "JK Frequency: 395, Red Corridor Frequency: 170\n"
     ]
    }
   ],
   "source": [
    "# Problem 5: Casualty Frequency in Red Corridor states and J&K\n",
    "red_corridor_states = ['Jharkhand', 'Odisha', 'Andhra Pradesh', 'Chhattisgarh']\n",
    "red_corridor_data = terrorism_data[terrorism_data['State'].isin(red_corridor_states)]\n",
    "jk_casualties = jk_data['Killed'] + jk_data['Wounded']\n",
    "red_corridor_casualties = red_corridor_data['Killed'] + red_corridor_data['Wounded']\n",
    "\n",
    "jk_years = jk_data['Year'].nunique()\n",
    "red_corridor_years = red_corridor_data['Year'].nunique()\n",
    "\n",
    "jk_frequency = int(jk_casualties.sum() / jk_years)\n",
    "red_corridor_frequency = int(red_corridor_casualties.sum() / red_corridor_years)\n",
    "print(\"Problem 5\")\n",
    "print(f\"JK Frequency: {jk_frequency}, Red Corridor Frequency: {red_corridor_frequency}\")"
   ]
  },
  {
   "cell_type": "code",
   "execution_count": null,
   "id": "51ff8eff",
   "metadata": {},
   "outputs": [],
   "source": []
  }
 ],
 "metadata": {
  "kernelspec": {
   "display_name": "Python 3 (ipykernel)",
   "language": "python",
   "name": "python3"
  },
  "language_info": {
   "codemirror_mode": {
    "name": "ipython",
    "version": 3
   },
   "file_extension": ".py",
   "mimetype": "text/x-python",
   "name": "python",
   "nbconvert_exporter": "python",
   "pygments_lexer": "ipython3",
   "version": "3.9.7"
  }
 },
 "nbformat": 4,
 "nbformat_minor": 5
}
